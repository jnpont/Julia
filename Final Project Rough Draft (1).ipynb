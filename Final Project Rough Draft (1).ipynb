{
 "cells": [
  {
   "cell_type": "markdown",
   "metadata": {},
   "source": [
    "# Optimizing NBA Roster\n",
    "\n"
   ]
  },
  {
   "cell_type": "markdown",
   "metadata": {},
   "source": [
    "Introduction:\n",
    "This report was designed to optimize an NBA roster based on current 2018-2019 season statistics. Improvements in data have led to a greater place in sports for statistics to add what coaches and experts are unable to see. I"
   ]
  },
  {
   "cell_type": "code",
   "execution_count": 119,
   "metadata": {},
   "outputs": [
    {
     "name": "stderr",
     "output_type": "stream",
     "text": [
      "\u001b[1m\u001b[33mWARNING: \u001b[39m\u001b[22m\u001b[33mNot solved to optimality, status: Infeasible\u001b[39m\n",
      "\u001b[1m\u001b[33mWARNING: \u001b[39m\u001b[22m\u001b[33mInfeasibility ray (Farkas proof) not available\u001b[39m\n"
     ]
    },
    {
     "data": {
      "text/plain": [
       ":Infeasible"
      ]
     },
     "execution_count": 119,
     "metadata": {},
     "output_type": "execute_result"
    }
   ],
   "source": [
    "using JuMP, Gurobi, Cbc\n",
    "\n",
    "data = readcsv(\"players_clean.csv\")\n",
    "#m = Model(solver=GurobiSolver(OutputFlag=0));\n",
    "m = Model(solver=CbcSolver())\n",
    "lambda = 0.5 \n",
    "\n",
    "#make data table without catagory headers\n",
    "row = length(data[1,:])\n",
    "col = length(data[:,3])\n",
    "data = data[2:col, 2:row]\n",
    "\n",
    "#zip players to their respective statistics\n",
    "player_names = data[:,2]\n",
    "player_pts = Dict(zip(player_names, data[:,5]))\n",
    "player_trb = Dict(zip(player_names, data[:,6]))\n",
    "player_ast = Dict(zip(player_names, data[:,7]))\n",
    "player_stl = Dict(zip(player_names, data[:,8]))\n",
    "player_sal = Dict(zip(player_names, data[:,9]))\n",
    "\n",
    "#a bit array is pushed to the positions matrix depending on position for every player\n",
    "positions = []\n",
    "for i in data[:,4]\n",
    "    if i == \"PG\"\n",
    "        push!(positions, [1  0  0  0  0]) \n",
    "    end\n",
    "    if i == \"SG\"\n",
    "        push!(positions, [0  1  0  0  0])\n",
    "    end\n",
    "    if i == \"SF\"\n",
    "        push!(positions, [0  0  1  0  0])\n",
    "    end\n",
    "    if i == \"PF\"\n",
    "        push!(positions, [0  0  0  1  0])\n",
    "    end\n",
    "    if i == \"C\"\n",
    "        push!(positions, [0  0  0  0  1])\n",
    "    end\n",
    "end\n",
    "\n",
    "player_pos = Dict(zip(player_names, positions))\n",
    "\n",
    "#may only have 2 of each position on each 10 man roster\n",
    "position_max = [2  2  2  2  2]\n",
    "\n",
    "#sum stats \n",
    "#@variable(m, x[player_names])\n",
    "@variable(m, x[player_names], Bin)\n",
    "@expression(m, points, sum([player_pts[p] for p in player_names]))\n",
    "@expression(m, rebounds, sum([player_trb[p] for p in player_names]))\n",
    "@expression(m, assists, sum([player_ast[p] for p in player_names]))\n",
    "@expression(m, steals, sum([player_stl[p] for p in player_names]))\n",
    "@expression(m, salaries, sum([player_sal[p]*x[p] for p in player_names]))\n",
    "@expression(m, stats, points + rebounds + assists + steals)\n",
    "@expression(m, total_pos, sum([player_pos[p] for p in player_names]))\n",
    "@constraint(m, total_pos .== position_max)\n",
    "@constraint(m, sum(x) == 10)\n",
    "@objective(m, Min, -stats - lambda*salaries)\n",
    "\n",
    "#solve(m)\n",
    "solve(m)"
   ]
  },
  {
   "cell_type": "code",
   "execution_count": 84,
   "metadata": {},
   "outputs": [],
   "source": []
  },
  {
   "cell_type": "code",
   "execution_count": null,
   "metadata": {},
   "outputs": [],
   "source": []
  }
 ],
 "metadata": {
  "kernelspec": {
   "display_name": "Julia 0.6.4",
   "language": "julia",
   "name": "julia-0.6"
  },
  "language_info": {
   "file_extension": ".jl",
   "mimetype": "application/julia",
   "name": "julia",
   "version": "0.6.4"
  }
 },
 "nbformat": 4,
 "nbformat_minor": 2
}
